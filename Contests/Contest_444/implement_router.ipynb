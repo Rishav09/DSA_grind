{
 "cells": [
  {
   "cell_type": "code",
   "execution_count": null,
   "metadata": {},
   "outputs": [],
   "source": [
    "from collections import deque, defaultdict\n",
    "from sortedcontainers import SortedList\n",
    "\n",
    "class Router:\n",
    "\n",
    "    def __init__(self, memoryLimit: int):\n",
    "        self.memoryLimit = memoryLimit\n",
    "        self.queue = deque()\n",
    "        self.packetSet = set()\n",
    "        self.destTimeMap = defaultdict(SortedList) \n",
    "        \n",
    "\n",
    "    def addPacket(self, source: int, destination: int, timestamp: int) -> bool:\n",
    "        key = (source, destination, timestamp)\n",
    "        if key in self.packetSet:\n",
    "            return False\n",
    "        if len(self.queue) >= self.memoryLimit:\n",
    "            old_src, old_dst, old_ts = self.queue.popleft()\n",
    "            self.packetSet.remove((old_src,old_dst,old_ts))\n",
    "            self.destTimeMap[old_dst].remove(old_ts)\n",
    "            if not self.destTimeMap[old_dst]:\n",
    "                del self.destTimeMap[old_dst]  # clean up\n",
    "\n",
    "        self.queue.append((source, destination, timestamp))\n",
    "        self.packetSet.add(key)\n",
    "        self.destTimeMap[destination].add(timestamp)\n",
    "        return True\n",
    "\n",
    "\n",
    "    def forwardPacket(self) -> List[int]:\n",
    "        if not self.queue:\n",
    "            return []\n",
    "        src,dst,ts= self.queue.popleft()\n",
    "        self.packetSet.remove((src,dst,ts))\n",
    "        self.destTimeMap[dst].remove(ts)\n",
    "        if not self.destTimeMap[dst]:\n",
    "            del self.destTimeMap[dst]\n",
    "        return [src, dst, ts]\n",
    "\n",
    "\n",
    "        \n",
    "\n",
    "    def getCount(self, destination: int, startTime: int, endTime: int) -> int:\n",
    "        times = self.destTimeMap[destination]\n",
    "        left = times.bisect_left(startTime)\n",
    "        right = times.bisect_right(endTime)\n",
    "        return right - left\n"
   ]
  }
 ],
 "metadata": {
  "language_info": {
   "name": "python"
  }
 },
 "nbformat": 4,
 "nbformat_minor": 2
}
