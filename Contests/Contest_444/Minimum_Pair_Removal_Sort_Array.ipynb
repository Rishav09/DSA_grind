{
 "cells": [
  {
   "cell_type": "code",
   "execution_count": null,
   "metadata": {},
   "outputs": [],
   "source": [
    "import math\n",
    "class Solution:\n",
    "    def minimumPairRemoval(self, nums: List[int]) -> int:\n",
    "\n",
    "        def is_non_decreasing(arr):\n",
    "            for i in range(len(arr)-1):\n",
    "                if arr[i] > arr[i+1]:\n",
    "                    return False\n",
    "            return True\n",
    "\n",
    "        ops = 0\n",
    "        nums = nums[:]\n",
    "\n",
    "        while not is_non_decreasing(nums):\n",
    "            min_sum = math.inf\n",
    "            min_idx = 0\n",
    "\n",
    "            for i in range(len(nums)-1):\n",
    "                s = nums[i] + nums[i+1]\n",
    "                if s < min_sum:\n",
    "                    min_sum = s\n",
    "                    min_idx = i\n",
    "            merged = nums[min_idx] + nums[min_idx + 1]\n",
    "            left = nums[:min_idx]\n",
    "            right = nums[min_idx + 2:]\n",
    "            nums = left + [merged] + right\n",
    "            ops += 1   \n",
    "        return ops \n",
    "\n",
    "\n",
    "\n",
    "\n",
    "        "
   ]
  }
 ],
 "metadata": {
  "language_info": {
   "name": "python"
  }
 },
 "nbformat": 4,
 "nbformat_minor": 2
}
