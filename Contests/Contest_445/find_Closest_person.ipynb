{
 "cells": [
  {
   "cell_type": "code",
   "execution_count": null,
   "id": "b18b30dd",
   "metadata": {},
   "outputs": [],
   "source": [
    "import math\n",
    "class Solution:\n",
    "    def findClosest(self, x, y, z):\n",
    "        \"\"\"\n",
    "        :integer\n",
    "        :rtype: integer\n",
    "        \"\"\"\n",
    "        if abs(x-z) < abs(y-z):\n",
    "            return 1\n",
    "        elif abs(x-z) > abs(y-z):\n",
    "            return 2\n",
    "        else:\n",
    "            return 0"
   ]
  }
 ],
 "metadata": {
  "language_info": {
   "name": "python"
  }
 },
 "nbformat": 4,
 "nbformat_minor": 5
}
