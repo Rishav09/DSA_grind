{
 "cells": [
  {
   "cell_type": "code",
   "execution_count": null,
   "metadata": {},
   "outputs": [],
   "source": [
    "class NumMatrix:\n",
    "\n",
    "    def __init__(self, matrix: List[List[int]]):\n",
    "        ROWS = len(matrix)\n",
    "        COLS = len(matrix[0])\n",
    "\n",
    "        self.sumMat = [[0] * (COLS +1)for _ in range(ROWS+1)]\n",
    "        for r in range(ROWS):\n",
    "            prefix = 0\n",
    "            for c in range(COLS):\n",
    "                prefix+=matrix[r][c]\n",
    "                above = self.sumMat[r][c+1]\n",
    "                self.sumMat[r+1][c+1] = prefix+above\n",
    "\n",
    "\n",
    "    def sumRegion(self, row1: int, col1: int, row2: int, col2: int) -> int:\n",
    "        r1, c1,r2, c2 = r1+1, c1+1, r2+1, c2+1\n",
    "        bottomRight = self.sumMat[r2][c2]\n",
    "        above = self.sumMat[r1-1][c2]\n",
    "        left = self.sumMat[r2][c1-1]\n",
    "        topLeft = self.sumMat[r2-1][c1-1]\n",
    "        return bottomRight-above-left+topLeft\n"
   ]
  }
 ],
 "metadata": {
  "language_info": {
   "name": "python"
  }
 },
 "nbformat": 4,
 "nbformat_minor": 2
}
