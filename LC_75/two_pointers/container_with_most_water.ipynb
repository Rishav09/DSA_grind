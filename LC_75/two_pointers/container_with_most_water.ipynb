{
 "cells": [
  {
   "cell_type": "code",
   "execution_count": null,
   "metadata": {},
   "outputs": [],
   "source": [
    "# O(n) complexity\n",
    "def maxArea(height:List[int]) -> int:\n",
    "    left, right=0, len(height)-1\n",
    "    max_area = 0\n",
    "    while left<right:\n",
    "        area = min(height[left], height[right]) * (right-left)\n",
    "        max_area = max(max_area, area)\n",
    "        if height[left]<height[right]:\n",
    "            left+=1\n",
    "        else:\n",
    "            right-=1\n",
    "    return max_area"
   ]
  }
 ],
 "metadata": {
  "kernelspec": {
   "display_name": "mlops",
   "language": "python",
   "name": "python3"
  },
  "language_info": {
   "name": "python",
   "version": "3.12.9"
  }
 },
 "nbformat": 4,
 "nbformat_minor": 2
}
