{
 "cells": [
  {
   "cell_type": "code",
   "execution_count": 1,
   "metadata": {},
   "outputs": [],
   "source": [
    "## https://leetcode.com/problems/dota2-senate/description/?envType=study-plan-v2&envId=leetcode-75"
   ]
  },
  {
   "cell_type": "code",
   "execution_count": null,
   "metadata": {},
   "outputs": [],
   "source": [
    "from collections import deque\n",
    "\n",
    "def predictPartyVictory(senate: str) -> str:\n",
    "    # Create two queues to store the indices of Radiant ('R') and Dire ('D') senators.\n",
    "    qR = deque()\n",
    "    qD = deque()\n",
    "    n = len(senate)\n",
    "    \n",
    "    # Fill the queues with the indices of each senator.\n",
    "    for i, senator in enumerate(senate):\n",
    "        if senator == 'R':\n",
    "            qR.append(i)\n",
    "        else:\n",
    "            qD.append(i)\n",
    "    \n",
    "    # Process rounds until one queue is empty.\n",
    "    while qR and qD:\n",
    "        # Pop the earliest index from each queue.\n",
    "        r_index = qR.popleft()\n",
    "        d_index = qD.popleft()\n",
    "        \n",
    "        # The senator with the lower index (i.e., earlier in the current round) gets to ban the other.\n",
    "        # That senator will have their next turn scheduled at index + n (to simulate a new round).\n",
    "        if r_index < d_index:\n",
    "            qR.append(r_index + n)\n",
    "        else:\n",
    "            qD.append(d_index + n)\n",
    "    \n",
    "    # If the Radiant queue still has senators, they win; otherwise, Dire wins.\n",
    "    return \"Radiant\" if qR else \"Dire\"\n",
    "\n",
    "# Example usage:\n",
    "if __name__ == \"__main__\":\n",
    "    print(predictPartyVictory(\"RD\"))   # Output: Radiant\n",
    "    print(predictPartyVictory(\"RDD\"))  # Output: Dire\n"
   ]
  }
 ],
 "metadata": {
  "kernelspec": {
   "display_name": "caravana",
   "language": "python",
   "name": "python3"
  },
  "language_info": {
   "codemirror_mode": {
    "name": "ipython",
    "version": 3
   },
   "file_extension": ".py",
   "mimetype": "text/x-python",
   "name": "python",
   "nbconvert_exporter": "python",
   "pygments_lexer": "ipython3",
   "version": "3.12.9"
  }
 },
 "nbformat": 4,
 "nbformat_minor": 2
}
