{
 "cells": [
  {
   "cell_type": "code",
   "execution_count": 1,
   "metadata": {},
   "outputs": [],
   "source": [
    "## https://leetcode.com/problems/decode-string/?envType=study-plan-v2&envId=leetcode-75\n",
    "## Example 1:\n",
    "\n",
    "## Input: s = \"3[a]2[bc]\"\n",
    "## Output: \"aaabcbc\"\n",
    "## Example 2:\n",
    "\n",
    "## Input: s = \"3[a2[c]]\"\n",
    "## Output: \"accaccacc\"\n",
    "## Example 3:\n",
    "\n",
    "## Input: s = \"2[abc]3[cd]ef\"\n",
    "## Output: \"abcabccdcdcdef\"\n"
   ]
  },
  {
   "cell_type": "code",
   "execution_count": null,
   "metadata": {},
   "outputs": [],
   "source": [
    "def decodeString(self, s: str) -> str:\n",
    "    stack = []\n",
    "    current_num = 0\n",
    "    current_str = \"\"\n",
    "    for char in s:\n",
    "        if char.isdigit():\n",
    "            current_num = current_num * 10 + char\n",
    "        elif char == '[':\n",
    "            stack.append(current_str, current_num)\n",
    "            current_num = 0\n",
    "            current_str = \"\"\n",
    "        elif char == ']':\n",
    "            prev_str, num = stack.pop()\n",
    "            current_str = prev_str + current_str * num\n",
    "        else:\n",
    "            current_str+=char\n",
    "        return current_str\n",
    "\n"
   ]
  }
 ],
 "metadata": {
  "kernelspec": {
   "display_name": "caravana",
   "language": "python",
   "name": "python3"
  },
  "language_info": {
   "codemirror_mode": {
    "name": "ipython",
    "version": 3
   },
   "file_extension": ".py",
   "mimetype": "text/x-python",
   "name": "python",
   "nbconvert_exporter": "python",
   "pygments_lexer": "ipython3",
   "version": "3.12.9"
  }
 },
 "nbformat": 4,
 "nbformat_minor": 2
}
