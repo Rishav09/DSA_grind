{
 "cells": [
  {
   "cell_type": "code",
   "execution_count": null,
   "metadata": {},
   "outputs": [],
   "source": [
    "## https://leetcode.com/problems/product-of-array-except-self/description/?envType=study-plan-v2&envId=leetcode-75"
   ]
  },
  {
   "cell_type": "code",
   "execution_count": null,
   "metadata": {},
   "outputs": [],
   "source": [
    "class Solution:\n",
    "    def productExceptSelf(self, nums):\n",
    "        n = len(nums)\n",
    "        answer = [1] * n  # Initialize answer array with 1s\n",
    "\n",
    "        # Step 1: Compute prefix products in answer array\n",
    "        prefix = 1\n",
    "        for i in range(n):\n",
    "            answer[i] = prefix  # Store the prefix product before nums[i]\n",
    "            prefix *= nums[i]    # Update prefix for the next index\n",
    "\n",
    "        # Step 2: Compute suffix products and multiply in-place\n",
    "        suffix = 1\n",
    "        for i in range(n - 1, -1, -1):\n",
    "            answer[i] *= suffix  # Multiply with suffix product\n",
    "            suffix *= nums[i]     # Update suffix for the next index\n",
    "\n",
    "        return answer\n",
    "\n",
    "# Example usage\n",
    "solution = Solution()\n",
    "print(solution.productExceptSelf([1, 2, 3, 4]))  # Output: [24, 12, 8, 6]\n",
    "print(solution.productExceptSelf([-1, 1, 0, -3, 3]))  # Output: [0, 0, 9, 0, 0]\n"
   ]
  }
 ],
 "metadata": {
  "kernelspec": {
   "display_name": "opt",
   "language": "python",
   "name": "python3"
  },
  "language_info": {
   "name": "python",
   "version": "3.7.6"
  }
 },
 "nbformat": 4,
 "nbformat_minor": 2
}
