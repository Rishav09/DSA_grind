{
 "cells": [
  {
   "cell_type": "code",
   "execution_count": null,
   "metadata": {},
   "outputs": [],
   "source": [
    "## https://leetcode.com/problems/string-compression/description/?envType=study-plan-v2&envId=leetcode-75"
   ]
  },
  {
   "cell_type": "code",
   "execution_count": 2,
   "metadata": {},
   "outputs": [
    {
     "name": "stdout",
     "output_type": "stream",
     "text": [
      "6 ['a', '2', 'b', '2', 'c', '3', 'c']\n",
      "1 ['a']\n",
      "4 ['a', 'b', '1', '0', 'b', '7']\n"
     ]
    }
   ],
   "source": [
    "class Solution:\n",
    "    def compress(self, chars):\n",
    "        write = 0  # Pointer for writing compressed data\n",
    "        i = 0  # Pointer for reading the original array\n",
    "\n",
    "        while i < len(chars):\n",
    "            char = chars[i]\n",
    "            count = 0  # Count occurrences of the character\n",
    "\n",
    "            # Count occurrences of chars[i]\n",
    "            while i < len(chars) and chars[i] == char:\n",
    "                count += 1\n",
    "                i += 1  # Move to the next different character\n",
    "\n",
    "            # Write the character to the array\n",
    "            chars[write] = char\n",
    "            write += 1\n",
    "\n",
    "            # If count > 1, write its digits\n",
    "            if count > 1:\n",
    "                for digit in str(count):  # Convert count to individual characters\n",
    "                    chars[write] = digit\n",
    "                    write += 1\n",
    "\n",
    "        return write  # New length of the compressed array\n",
    "\n",
    "# Example Test Cases\n",
    "solution = Solution()\n",
    "chars1 = [\"a\", \"a\", \"b\", \"b\", \"c\", \"c\", \"c\"]\n",
    "print(solution.compress(chars1), chars1[:solution.compress(chars1)])  # Output: 6, [\"a\", \"2\", \"b\", \"2\", \"c\", \"3\"]\n",
    "\n",
    "chars2 = [\"a\"]\n",
    "print(solution.compress(chars2), chars2[:solution.compress(chars2)])  # Output: 1, [\"a\"]\n",
    "\n",
    "chars3 = [\"a\", \"b\", \"b\", \"b\", \"b\", \"b\", \"b\", \"b\", \"b\", \"b\", \"b\"]\n",
    "print(solution.compress(chars3), chars3[:solution.compress(chars3)])  # Output: 4, [\"a\", \"b\", \"1\", \"1\"]\n"
   ]
  }
 ],
 "metadata": {
  "kernelspec": {
   "display_name": "opt",
   "language": "python",
   "name": "python3"
  },
  "language_info": {
   "codemirror_mode": {
    "name": "ipython",
    "version": 3
   },
   "file_extension": ".py",
   "mimetype": "text/x-python",
   "name": "python",
   "nbconvert_exporter": "python",
   "pygments_lexer": "ipython3",
   "version": "3.7.6"
  }
 },
 "nbformat": 4,
 "nbformat_minor": 2
}
