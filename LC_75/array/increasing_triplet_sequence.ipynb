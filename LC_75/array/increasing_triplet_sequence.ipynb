{
 "cells": [
  {
   "cell_type": "code",
   "execution_count": null,
   "metadata": {},
   "outputs": [],
   "source": [
    "## https://leetcode.com/problems/increasing-triplet-subsequence/description/?envType=study-plan-v2&envId=leetcode-75"
   ]
  },
  {
   "cell_type": "code",
   "execution_count": 4,
   "metadata": {},
   "outputs": [
    {
     "name": "stdout",
     "output_type": "stream",
     "text": [
      "true\n"
     ]
    }
   ],
   "source": [
    "class Solution:\n",
    "    def increasingTriplet(self, nums):\n",
    "        small = float('inf')  # Smallest number\n",
    "        mid = float('inf')  # Middle number\n",
    "\n",
    "        for num in nums:\n",
    "            if num <= small:\n",
    "                small = num  # Update smallest number\n",
    "            elif num <= mid:\n",
    "                mid = num  # Update middle number\n",
    "            else:\n",
    "                return True  # Found a valid triplet (small < mid < num)\n",
    "        \n",
    "        return False  # No increasing triplet found\n"
   ]
  }
 ],
 "metadata": {
  "kernelspec": {
   "display_name": "opt",
   "language": "python",
   "name": "python3"
  },
  "language_info": {
   "codemirror_mode": {
    "name": "ipython",
    "version": 3
   },
   "file_extension": ".py",
   "mimetype": "text/x-python",
   "name": "python",
   "nbconvert_exporter": "python",
   "pygments_lexer": "ipython3",
   "version": "3.7.6"
  }
 },
 "nbformat": 4,
 "nbformat_minor": 2
}
