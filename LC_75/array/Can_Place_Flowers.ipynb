{
 "cells": [
  {
   "cell_type": "code",
   "execution_count": null,
   "metadata": {},
   "outputs": [],
   "source": [
    "## https://leetcode.com/problems/can-place-flowers/description/?envType=study-plan-v2&envId=leetcode-75\n"
   ]
  },
  {
   "cell_type": "code",
   "execution_count": null,
   "metadata": {},
   "outputs": [],
   "source": [
    "class Solution:\n",
    "    def canPlaceFlowers(self, flowerbed: List[int], n: int) -> bool:\n",
    "\n",
    "        length = len(flowerbed)\n",
    "        count = 0\n",
    "\n",
    "        for i in range(length):\n",
    "            if flowerbed[i] == 0:\n",
    "                is_left_empty = (i == 0) or (flowerbed[i-1] == 0)\n",
    "                is_right_empty = (i==length-1) or (flowerbed[i+1]==0)\n",
    "\n",
    "                if is_left_empty and is_right_empty:\n",
    "                    flowerbed[i] = 1  # Plant the flower\n",
    "                    count += 1\n",
    "                    i+=2  # Skip the next plot as it can't be used\n",
    "                else:\n",
    "                    continue\n",
    "            \n",
    "            else:\n",
    "                i+=2\n",
    "        return count >= n\n",
    "\n",
    "        "
   ]
  },
  {
   "cell_type": "code",
   "execution_count": null,
   "metadata": {},
   "outputs": [],
   "source": []
  }
 ],
 "metadata": {
  "kernelspec": {
   "display_name": "opt",
   "language": "python",
   "name": "python3"
  },
  "language_info": {
   "name": "python",
   "version": "3.7.6"
  }
 },
 "nbformat": 4,
 "nbformat_minor": 2
}
