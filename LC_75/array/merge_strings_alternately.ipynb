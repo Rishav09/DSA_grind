{
 "cells": [
  {
   "cell_type": "code",
   "execution_count": null,
   "metadata": {},
   "outputs": [],
   "source": [
    "# Merging the array - https://leetcode.com/problems/merge-strings-alternately/description/?envType=study-plan-v2&envId=leetcode-75\n",
    "# Input: word1 = \"abc\", word2 = \"pqr\"\n",
    "# Output: \"apbqcr\""
   ]
  },
  {
   "cell_type": "code",
   "execution_count": 15,
   "metadata": {},
   "outputs": [
    {
     "data": {
      "text/plain": [
       "['a', 'p', 'b', 'q', 'c', 'r', 'd', 'e', '', 'w']"
      ]
     },
     "execution_count": 15,
     "metadata": {},
     "output_type": "execute_result"
    }
   ],
   "source": [
    "word1 = \"abcd\"\n",
    "word2= \"pqrew\"\n",
    "merged = []\n",
    "min_length = min(len(word1), len(word2))\n",
    "for i in range(min_length):\n",
    "    merged.append(word1[i])\n",
    "    merged.append(word2[i])\n",
    "\n",
    "\n",
    "merged.append(word1[min_length:])\n",
    "merged.append(word2[min_length:]) \n",
    "merged\n",
    "#return \"\".join(merged)"
   ]
  },
  {
   "cell_type": "code",
   "execution_count": 4,
   "metadata": {},
   "outputs": [
    {
     "data": {
      "text/plain": [
       "'p'"
      ]
     },
     "execution_count": 4,
     "metadata": {},
     "output_type": "execute_result"
    }
   ],
   "source": [
    "class Solution:\n",
    "    def mergeAlternately(self, word1: str, word2: str) -> str:\n",
    "        min_length = min(len(word1), len(word2))\n",
    "        merged = []\n",
    "        for i in range(min_length):\n",
    "            merged.append(word1[i])\n",
    "            merged.append(word2[i])\n",
    "        \n",
    "        merged.append(word1[min_length:])\n",
    "        merged.append(word2[min_length:])\n",
    "\n",
    "        return \"\".join(merged)"
   ]
  },
  {
   "cell_type": "code",
   "execution_count": null,
   "metadata": {},
   "outputs": [],
   "source": []
  }
 ],
 "metadata": {
  "kernelspec": {
   "display_name": "opt",
   "language": "python",
   "name": "python3"
  },
  "language_info": {
   "codemirror_mode": {
    "name": "ipython",
    "version": 3
   },
   "file_extension": ".py",
   "mimetype": "text/x-python",
   "name": "python",
   "nbconvert_exporter": "python",
   "pygments_lexer": "ipython3",
   "version": "3.7.6"
  }
 },
 "nbformat": 4,
 "nbformat_minor": 2
}
