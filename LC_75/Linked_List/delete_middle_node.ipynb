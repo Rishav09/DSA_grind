{
 "cells": [
  {
   "cell_type": "code",
   "execution_count": 1,
   "metadata": {},
   "outputs": [],
   "source": [
    "# https://leetcode.com/problems/delete-the-middle-node-of-a-linked-list/?envType=study-plan-v2&envId=leetcode-75"
   ]
  },
  {
   "cell_type": "code",
   "execution_count": null,
   "metadata": {},
   "outputs": [],
   "source": [
    "import math\n",
    "from typing import Optional\n",
    "\n",
    "# Definition for singly-linked list.\n",
    "class ListNode:\n",
    "    def __init__(self, val=0, next=None):\n",
    "        self.val = val\n",
    "        self.next = next\n",
    "\n",
    "class Solution:\n",
    "    def find_length(self, head: Optional[ListNode]) -> int:\n",
    "        current = head\n",
    "        length = 0\n",
    "        while current:\n",
    "            length += 1\n",
    "            current = current.next\n",
    "        return length\n",
    "\n",
    "    def deleteMiddle(self, head: Optional[ListNode]) -> Optional[ListNode]:\n",
    "        # If the list is empty or has only one node, return None.\n",
    "        if not head or not head.next:\n",
    "            return None\n",
    "\n",
    "        # Determine the length of the linked list.\n",
    "        length = self.find_length(head)\n",
    "        # Calculate the index of the middle node (0-based indexing).\n",
    "        pos = math.floor(length / 2)\n",
    "        \n",
    "        # Traverse to the node just before the middle node.\n",
    "        current = head\n",
    "        current_pos = 0\n",
    "        while current_pos != pos - 1:\n",
    "            current = current.next\n",
    "            current_pos += 1\n",
    "\n",
    "        # Delete the middle node by skipping it.\n",
    "        current.next = current.next.next\n",
    "        \n",
    "        return head\n"
   ]
  }
 ],
 "metadata": {
  "kernelspec": {
   "display_name": "caravana",
   "language": "python",
   "name": "python3"
  },
  "language_info": {
   "codemirror_mode": {
    "name": "ipython",
    "version": 3
   },
   "file_extension": ".py",
   "mimetype": "text/x-python",
   "name": "python",
   "nbconvert_exporter": "python",
   "pygments_lexer": "ipython3",
   "version": "3.12.9"
  }
 },
 "nbformat": 4,
 "nbformat_minor": 2
}
