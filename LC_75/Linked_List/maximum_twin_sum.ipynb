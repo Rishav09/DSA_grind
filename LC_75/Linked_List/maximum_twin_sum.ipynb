{
 "cells": [
  {
   "cell_type": "code",
   "execution_count": 1,
   "metadata": {},
   "outputs": [],
   "source": [
    "# https://leetcode.com/problems/maximum-twin-sum-of-a-linked-list/description/?envType=study-plan-v2&envId=leetcode-75"
   ]
  },
  {
   "cell_type": "code",
   "execution_count": null,
   "metadata": {},
   "outputs": [],
   "source": [
    "from typing import Optional\n",
    "\n",
    "# Definition for singly-linked list.\n",
    "class ListNode:\n",
    "    def __init__(self, val=0, next=None):\n",
    "        self.val = val\n",
    "        self.next = next\n",
    "\n",
    "class Solution:\n",
    "    def pairSum(self, head: Optional[ListNode]) -> int:\n",
    "        # Step 1: Find the middle of the linked list using slow and fast pointers.\n",
    "        slow = head\n",
    "        fast = head\n",
    "        while fast and fast.next:\n",
    "            slow = slow.next\n",
    "            fast = fast.next.next\n",
    "        \n",
    "        # Step 2: Reverse the second half of the list starting from 'slow'.\n",
    "        prev = None\n",
    "        curr = slow\n",
    "        while curr:\n",
    "            nxt = curr.next\n",
    "            curr.next = prev\n",
    "            prev = curr\n",
    "            curr = nxt\n",
    "        # 'prev' is now the head of the reversed second half.\n",
    "        \n",
    "        # Step 3: Traverse the first half and the reversed second half to calculate twin sums.\n",
    "        max_twin_sum = 0\n",
    "        first = head\n",
    "        second = prev\n",
    "        while second:  # second half length equals the first half length.\n",
    "            twin_sum = first.val + second.val\n",
    "            max_twin_sum = max(max_twin_sum, twin_sum)\n",
    "            first = first.next\n",
    "            second = second.next\n",
    "        \n",
    "        # Step 4: Return the maximum twin sum.\n",
    "        return max_twin_sum\n"
   ]
  }
 ],
 "metadata": {
  "kernelspec": {
   "display_name": "caravana",
   "language": "python",
   "name": "python3"
  },
  "language_info": {
   "codemirror_mode": {
    "name": "ipython",
    "version": 3
   },
   "file_extension": ".py",
   "mimetype": "text/x-python",
   "name": "python",
   "nbconvert_exporter": "python",
   "pygments_lexer": "ipython3",
   "version": "3.12.9"
  }
 },
 "nbformat": 4,
 "nbformat_minor": 2
}
