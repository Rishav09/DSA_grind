{
 "cells": [
  {
   "cell_type": "code",
   "execution_count": null,
   "id": "1ea008fe",
   "metadata": {},
   "outputs": [],
   "source": [
    "from collections import deque\n",
    "class Solution:\n",
    "    def maxLevelSum(self, root):\n",
    "        if not root:\n",
    "            return \n",
    "        \n",
    "        queue = deque([root])\n",
    "        max_sum = float('-inf')\n",
    "        max_level = 0\n",
    "        current_level = 1\n",
    "\n",
    "        while queue:\n",
    "            level_size = len(queue)\n",
    "            level_sum = 0\n",
    "            for i in range(level_size):\n",
    "                node = queue.popleft()\n",
    "                level_sum +=node.val\n",
    "\n",
    "                if node.left:\n",
    "                    queue.append(node.left)\n",
    "                if node.right:\n",
    "                    queue.append(node.right)\n",
    "            \n",
    "            if level_sum > max_sum:\n",
    "                max_sum = level_sum\n",
    "                max_level = current_level\n",
    "            current_level += 1\n",
    "        return max_level\n",
    "\n"
   ]
  }
 ],
 "metadata": {
  "kernelspec": {
   "display_name": "mlops",
   "language": "python",
   "name": "python3"
  },
  "language_info": {
   "name": "python",
   "version": "3.12.9"
  }
 },
 "nbformat": 4,
 "nbformat_minor": 5
}
