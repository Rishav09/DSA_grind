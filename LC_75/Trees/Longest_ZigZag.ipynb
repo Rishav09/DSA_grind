{
 "cells": [
  {
   "cell_type": "code",
   "execution_count": null,
   "id": "00deda37",
   "metadata": {},
   "outputs": [],
   "source": [
    "class Solution:\n",
    "    def longestZigZag(self, root):\n",
    "        self.max_path = 0\n",
    "\n",
    "        def dfs(node, direction, path_length):\n",
    "            if not node:\n",
    "                return\n",
    "            self.max_path = max(self.max_path, path_length)\n",
    "\n",
    "            if direction == 'left':\n",
    "                dfs(node.right, 'right',path_length+1)\n",
    "                dfs(node.left,'left',1)\n",
    "            else:\n",
    "                dfs(node.left,'left',path_length+1)\n",
    "                dfs(node.right,'right',1)\n",
    "        if not root:\n",
    "            return 0\n",
    "        dfs(root.left,'left',1)\n",
    "        dfs(root.right,'right',1)\n",
    "        return self.max_path"
   ]
  }
 ],
 "metadata": {
  "language_info": {
   "name": "python"
  }
 },
 "nbformat": 4,
 "nbformat_minor": 5
}
