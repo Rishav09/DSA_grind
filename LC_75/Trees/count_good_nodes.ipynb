{
 "cells": [
  {
   "cell_type": "code",
   "execution_count": null,
   "id": "4ca48be7",
   "metadata": {},
   "outputs": [],
   "source": [
    "class Solution:\n",
    "    def goodNodes(self, root):\n",
    "        if not root:\n",
    "            return 0\n",
    "        \n",
    "        return self._count_good_nodes(root,root.val)\n",
    "    \n",
    "    def _count_good_nodes(self, node, max_so_far):\n",
    "        if not node:\n",
    "            return 0\n",
    "\n",
    "        count = 1 if node.val >= max_so_far else 0\n",
    "        max_so_far = max(max_so_far, node_val)\n",
    "        count+=self._count_good_nodes(node.left, max_so_far)\n",
    "        count+=self._count_good_nodes(node.right, max_so_far)\n",
    "\n",
    "        return count"
   ]
  }
 ],
 "metadata": {
  "language_info": {
   "name": "python"
  }
 },
 "nbformat": 4,
 "nbformat_minor": 5
}
