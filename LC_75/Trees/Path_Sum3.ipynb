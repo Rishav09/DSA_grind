{
 "cells": [
  {
   "cell_type": "code",
   "execution_count": null,
   "id": "487b1c6f",
   "metadata": {},
   "outputs": [],
   "source": [
    "class Solution:\n",
    "    def pathSum(self, root: TreeNode, targetSum: int) -> int:\n",
    "        if not root:\n",
    "            return 0\n",
    "        \n",
    "        # Paths that start at current node\n",
    "        paths_from_root = self.count_paths_starting_at(root, targetSum)\n",
    "        \n",
    "        # Paths that start at left child\n",
    "        paths_from_left = self.pathSum(root.left, targetSum)\n",
    "        \n",
    "        # Paths that start at right child\n",
    "        paths_from_right = self.pathSum(root.right, targetSum)\n",
    "        \n",
    "        # Total paths = paths starting at current node + paths starting at children\n",
    "        return paths_from_root + paths_from_left + paths_from_right\n",
    "    \n",
    "    def count_paths_starting_at(self, node, target_sum):\n",
    "        if not node:\n",
    "            return 0\n",
    "        \n",
    "        # Count paths starting from this node\n",
    "        count = 0\n",
    "        \n",
    "        # If current node's value equals target, we found one path\n",
    "        if node.val == target_sum:\n",
    "            count += 1\n",
    "        \n",
    "        # Continue searching in both subtrees with updated target\n",
    "        count += self.count_paths_starting_at(node.left, target_sum - node.val)\n",
    "        count += self.count_paths_starting_at(node.right, target_sum - node.val)\n",
    "        \n",
    "        return count"
   ]
  },
  {
   "cell_type": "code",
   "execution_count": null,
   "id": "574b2e7c",
   "metadata": {},
   "outputs": [],
   "source": []
  }
 ],
 "metadata": {
  "language_info": {
   "name": "python"
  }
 },
 "nbformat": 4,
 "nbformat_minor": 5
}
