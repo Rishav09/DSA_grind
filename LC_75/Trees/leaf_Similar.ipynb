{
 "cells": [
  {
   "cell_type": "code",
   "execution_count": null,
   "id": "078c4f71",
   "metadata": {},
   "outputs": [],
   "source": [
    "class Solution:\n",
    "    def leafSimilar(self, root1, root2):\n",
    "        \"\"\"\n",
    "        :type root1: TreeNode\n",
    "        :type root2: TreeNode\n",
    "        :rtype \"bool\n",
    "        \"\"\"\n",
    "        leaves1 = []\n",
    "        leaves2 = []\n",
    "\n",
    "        self.get_leaf_sequence(root1, leaves1)\n",
    "        self.get_leaf_sequence(root2, leaves2)\n",
    "        return leaves1 == leaves2\n",
    "    \n",
    "    def get_leaf_sequence(self, root, leaves):\n",
    "        \"\"\"Helper function to collect leaf values in left to right\"\"\"\n",
    "        if not root:\n",
    "            return \n",
    "        \n",
    "        if not root.left and not root.right:\n",
    "            leaves.append(root.val)\n",
    "            return\n",
    "        if root.left:\n",
    "            self.get_leaf_sequence(root.left, leaves)\n",
    "        if root.right:\n",
    "            self.get_leaf_sequence(root.right, leaves)\n",
    "\n",
    "\n",
    "\n",
    "        \n"
   ]
  }
 ],
 "metadata": {
  "language_info": {
   "name": "python"
  }
 },
 "nbformat": 4,
 "nbformat_minor": 5
}
