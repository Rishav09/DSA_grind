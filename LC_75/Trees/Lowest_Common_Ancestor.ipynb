{
 "cells": [
  {
   "cell_type": "code",
   "execution_count": null,
   "id": "0e8a19a9",
   "metadata": {},
   "outputs": [],
   "source": [
    "class Solution:\n",
    "    def lowestCommonAncestor(self, root, p, q):\n",
    "        if not root:\n",
    "            return None\n",
    "        \n",
    "        if root == p or root == q:\n",
    "            return root\n",
    "        \n",
    "        left = lowestCommonAncestor(root.left, p, q)\n",
    "        right = lowestCommonAncestor(root.right, p, q)\n",
    "\n",
    "        if left and right:\n",
    "            return root\n",
    "        \n",
    "        return left if left else right"
   ]
  }
 ],
 "metadata": {
  "language_info": {
   "name": "python"
  }
 },
 "nbformat": 4,
 "nbformat_minor": 5
}
