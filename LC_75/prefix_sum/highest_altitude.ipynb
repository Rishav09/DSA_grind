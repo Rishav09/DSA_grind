{
 "cells": [
  {
   "cell_type": "code",
   "execution_count": null,
   "metadata": {},
   "outputs": [],
   "source": [
    "gain = [-5,1,5,0,-7]\n",
    "\n",
    "current = 0\n",
    "max_altitude = 0\n",
    "for i in range(len(gain)):\n",
    "    current+=gain[i]\n",
    "    max_altitude = max(current, gain[i])"
   ]
  }
 ],
 "metadata": {
  "language_info": {
   "name": "python"
  }
 },
 "nbformat": 4,
 "nbformat_minor": 2
}
