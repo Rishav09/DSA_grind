{
 "cells": [
  {
   "cell_type": "code",
   "execution_count": null,
   "metadata": {},
   "outputs": [],
   "source": [
    "def pivotIndex(nums):\n",
    "    total_sum =sum(nums)\n",
    "    left_sum = 0\n",
    "    for i in range(len(nums)):\n",
    "        if left_sum == total_sum - left_sum-nums[i]:\n",
    "            return i\n",
    "        left_sum += nums[i]\n",
    "    return -1"
   ]
  }
 ],
 "metadata": {
  "language_info": {
   "name": "python"
  }
 },
 "nbformat": 4,
 "nbformat_minor": 2
}
