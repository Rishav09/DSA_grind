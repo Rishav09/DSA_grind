{
 "cells": [
  {
   "cell_type": "code",
   "execution_count": 4,
   "metadata": {},
   "outputs": [
    {
     "name": "stdout",
     "output_type": "stream",
     "text": [
      "True\n"
     ]
    }
   ],
   "source": [
    "flowerbed = [1,0,0,0,1]\n",
    "n = 1\n",
    "count = 0\n",
    "for i in range(len(flowerbed)):\n",
    "    if flowerbed[i]==0:\n",
    "        is_left_empty = (i==0) or (flowerbed[i-1]==0)\n",
    "        is_right_empty = (i==len(flowerbed)-1) or (flowerbed[i+1]==0)\n",
    "        if is_left_empty and is_right_empty:\n",
    "            count+=1\n",
    "            i+=2\n",
    "    else:\n",
    "        i+=2\n",
    "    #return count>=n\n",
    "print(count>=n)\n",
    "\n"
   ]
  },
  {
   "cell_type": "code",
   "execution_count": null,
   "metadata": {},
   "outputs": [],
   "source": []
  }
 ],
 "metadata": {
  "kernelspec": {
   "display_name": "opt",
   "language": "python",
   "name": "python3"
  },
  "language_info": {
   "codemirror_mode": {
    "name": "ipython",
    "version": 3
   },
   "file_extension": ".py",
   "mimetype": "text/x-python",
   "name": "python",
   "nbconvert_exporter": "python",
   "pygments_lexer": "ipython3",
   "version": "3.7.6"
  }
 },
 "nbformat": 4,
 "nbformat_minor": 2
}
