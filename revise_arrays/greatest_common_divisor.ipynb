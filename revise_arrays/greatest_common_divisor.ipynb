{
 "cells": [
  {
   "cell_type": "code",
   "execution_count": null,
   "metadata": {
    "vscode": {
     "languageId": "plaintext"
    }
   },
   "outputs": [],
   "source": [
    "class Solution:\n",
    "    def gcdOfStrings(self, str1: str, str2: str) -> str:\n",
    "        if str1 + str2 != str2 + str1:\n",
    "            return \"\"\n",
    "        \n",
    "\n",
    "        def findGCD(a,b):\n",
    "            while b:\n",
    "                a,b = b, a%b\n",
    "            return a\n",
    "\n",
    "        gcd_length = findGCD(len(str1), len(str2))\n",
    "\n",
    "        return str1[:gcd_length] \n",
    "\n",
    "\n",
    "        "
   ]
  }
 ],
 "metadata": {
  "language_info": {
   "name": "python"
  }
 },
 "nbformat": 4,
 "nbformat_minor": 2
}
