{
 "cells": [
  {
   "cell_type": "code",
   "execution_count": null,
   "metadata": {},
   "outputs": [],
   "source": [
    "chars = [\"a\",\"a\",\"b\",\"b\",\"c\",\"c\",\"c\"]\n",
    "\n",
    "write = 0\n",
    "while i<len(chars):\n",
    "    char = chars[i]\n",
    "    count = 0\n",
    "\n",
    "    while i<len(chars) and chars[i]==char:\n",
    "        count+=1\n",
    "        i+=1\n",
    "    \n",
    "    chars[write] = char\n",
    "    write += 1\n",
    "    if count > 1:\n",
    "        for digit in str(count):  # Convert count to individual characters\n",
    "            chars[write] = digit\n",
    "            write += 1\n",
    "    return write\n"
   ]
  }
 ],
 "metadata": {
  "kernelspec": {
   "display_name": "opt",
   "language": "python",
   "name": "python3"
  },
  "language_info": {
   "name": "python",
   "version": "3.7.6"
  }
 },
 "nbformat": 4,
 "nbformat_minor": 2
}
