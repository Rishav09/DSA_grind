{
 "cells": [
  {
   "cell_type": "code",
   "execution_count": 3,
   "id": "4f7c1fe1",
   "metadata": {},
   "outputs": [],
   "source": [
    "class TreeNode:\n",
    "    def __init__(self, val = 0, left = None, right = None):\n",
    "        self.val = val\n",
    "        self.left = left \n",
    "        self.right = right"
   ]
  },
  {
   "cell_type": "code",
   "execution_count": null,
   "id": "7d01b543",
   "metadata": {},
   "outputs": [],
   "source": [
    "class Solution:\n",
    "    def buildTree(self, preorder, inorder):\n",
    "        if not preorder or not inorder:\n",
    "            return None\n",
    "\n",
    "        root_val = preorder[0]\n",
    "        root = TreeNode(root_val)\n",
    "\n",
    "        root_index = inorder.index(root_val)\n",
    "\n",
    "        inorder_left = inorder[:root_index]\n",
    "        inorder_right = inorder[root_index+1:]\n",
    "\n",
    "        preorder_left = preorder[1:1+root_index]\n",
    "        preorder_right = preorder[1+root_index:]\n",
    "\n",
    "        root.left = self.buildTree(preorder_left, inorder_left)\n",
    "        root.right = self.buildTree(preorder_right, inorder_right)\n",
    "\n",
    "        return root\n"
   ]
  }
 ],
 "metadata": {
  "kernelspec": {
   "display_name": "mlops",
   "language": "python",
   "name": "python3"
  },
  "language_info": {
   "codemirror_mode": {
    "name": "ipython",
    "version": 3
   },
   "file_extension": ".py",
   "mimetype": "text/x-python",
   "name": "python",
   "nbconvert_exporter": "python",
   "pygments_lexer": "ipython3",
   "version": "3.12.9"
  }
 },
 "nbformat": 4,
 "nbformat_minor": 5
}
