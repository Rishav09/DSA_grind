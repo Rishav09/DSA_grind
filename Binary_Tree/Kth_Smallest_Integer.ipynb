{
 "cells": [
  {
   "cell_type": "code",
   "execution_count": null,
   "id": "d40360eb",
   "metadata": {},
   "outputs": [],
   "source": [
    "class Solution:\n",
    "    def kthSmallest(self, root, k):\n",
    "        def inorder(node):\n",
    "            if not node:\n",
    "                return []\n",
    "            \n",
    "            left = inorder(node.left)\n",
    "            current = [node.val]\n",
    "            right = inorder(node.right)\n",
    "            \n",
    "            return left + current + right\n",
    "\n",
    "        sorted_nodes = inorder(root)\n",
    "        return sorted_nodes[k - 1]\n"
   ]
  }
 ],
 "metadata": {
  "language_info": {
   "name": "python"
  }
 },
 "nbformat": 4,
 "nbformat_minor": 5
}
