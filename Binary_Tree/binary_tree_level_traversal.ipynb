{
 "cells": [
  {
   "cell_type": "code",
   "execution_count": null,
   "id": "c438ade7",
   "metadata": {},
   "outputs": [],
   "source": [
    "\n",
    "class Solution:\n",
    "    def levelOrder(self, root):\n",
    "        if not root:\n",
    "            return []\n",
    "\n",
    "        result = []\n",
    "        queue= [root]\n",
    "\n",
    "        while queue:\n",
    "            level_size = len(queue)\n",
    "            current_level = []\n",
    "\n",
    "            for _ in range(level_size):\n",
    "                node = queue.pop(0)\n",
    "                current_level.append(node.val)\n",
    "\n",
    "                if node.left:\n",
    "                    queue.append(node.left)\n",
    "                if node.right:\n",
    "                    queue.append(node.right)\n",
    "            result.append(current_level)\n",
    "        return result"
   ]
  }
 ],
 "metadata": {
  "language_info": {
   "name": "python"
  }
 },
 "nbformat": 4,
 "nbformat_minor": 5
}
