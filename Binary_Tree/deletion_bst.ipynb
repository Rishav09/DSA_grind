{
 "cells": [
  {
   "cell_type": "code",
   "execution_count": null,
   "metadata": {},
   "outputs": [],
   "source": [
    "def deleteNode(root, key):\n",
    "    if not root:\n",
    "        return None\n",
    "    if key < root.val:\n",
    "        root.left = deleteNode(root.left, key)\n",
    "    elif key > root.val:\n",
    "        root.right = deleteNode(root.right, key)\n",
    "    else:\n",
    "        if not root.left and not root.right:\n",
    "            return None\n",
    "        # Case 2: One child\n",
    "        if not root.left:\n",
    "            return root.right\n",
    "        if not root.right:\n",
    "            return root.left\n",
    "        \n",
    "        successor = findMin(root.right)\n",
    "        root.val = successor.val  # Replace value\n",
    "        root.right = deleteNode(root.right, successor.val)  # Delete successo\n",
    "        \n",
    "def findMin(node):\n",
    "    while node.left:\n",
    "        node = node.left\n",
    "    return node"
   ]
  }
 ],
 "metadata": {
  "language_info": {
   "name": "python"
  }
 },
 "nbformat": 4,
 "nbformat_minor": 2
}
