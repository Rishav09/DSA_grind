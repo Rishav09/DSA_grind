{
 "cells": [
  {
   "cell_type": "code",
   "execution_count": null,
   "metadata": {},
   "outputs": [],
   "source": [
    "class Solution:\n",
    "\n",
    "    def isValid(self, s: str) -> bool:\n",
    "        stack = []\n",
    "        bracket_map = {')': '(', '}': '{', ']': '['}  # Mapping of closing to opening brackets\n",
    "\n",
    "        for char in s:\n",
    "            if char in bracket_map:  # It's a closing bracket\n",
    "                top_element = stack.pop() if stack else '#'  # Pop stack or use placeholder if empty\n",
    "                if bracket_map[char] != top_element:\n",
    "                    return False  # Mismatched bracket\n",
    "            else:\n",
    "                stack.append(char)  # It's an opening bracket, push to stack\n",
    "\n",
    "        return not stack  # Return True if stack is empty (all brackets matched)\n"
   ]
  },
  {
   "cell_type": "markdown",
   "metadata": {},
   "source": [
    "https://neetcode.io/problems/validate-parentheses"
   ]
  },
  {
   "cell_type": "markdown",
   "metadata": {},
   "source": []
  }
 ],
 "metadata": {
  "language_info": {
   "name": "python"
  }
 },
 "nbformat": 4,
 "nbformat_minor": 2
}
