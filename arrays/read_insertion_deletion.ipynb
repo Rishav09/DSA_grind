{
 "cells": [
  {
   "cell_type": "code",
   "execution_count": null,
   "metadata": {},
   "outputs": [],
   "source": [
    "## Static Array"
   ]
  },
  {
   "cell_type": "code",
   "execution_count": 7,
   "metadata": {},
   "outputs": [
    {
     "data": {
      "text/plain": [
       "[1, 3, 5]"
      ]
     },
     "execution_count": 7,
     "metadata": {},
     "output_type": "execute_result"
    }
   ],
   "source": [
    "myArray = [1, 3, 5]\n",
    "myArray"
   ]
  },
  {
   "cell_type": "code",
   "execution_count": 2,
   "metadata": {},
   "outputs": [],
   "source": [
    "## Reading an array is O(1) complexity"
   ]
  },
  {
   "cell_type": "code",
   "execution_count": 8,
   "metadata": {},
   "outputs": [
    {
     "name": "stdout",
     "output_type": "stream",
     "text": [
      "1\n",
      "3\n",
      "5\n"
     ]
    }
   ],
   "source": [
    "for i in range(len(myArray)):\n",
    "    print(myArray[i])"
   ]
  },
  {
   "cell_type": "code",
   "execution_count": 9,
   "metadata": {},
   "outputs": [
    {
     "data": {
      "text/plain": [
       "[1, 3, 0]"
      ]
     },
     "execution_count": 9,
     "metadata": {},
     "output_type": "execute_result"
    }
   ],
   "source": [
    "## Deleting from an array from end\n",
    "## O(1) \n",
    "def removeEnd(arr, length):\n",
    "    if length > 0:\n",
    "        arr[length-1] = 0\n",
    "removeEnd(myArray,3)\n",
    "myArray"
   ]
  },
  {
   "cell_type": "code",
   "execution_count": 11,
   "metadata": {},
   "outputs": [
    {
     "data": {
      "text/plain": [
       "[1, 0, 0]"
      ]
     },
     "execution_count": 11,
     "metadata": {},
     "output_type": "execute_result"
    }
   ],
   "source": [
    "# Deleting from an array from middle \n",
    "# O(n) complexity\n",
    "def removeMiddle(arr, i, length):\n",
    "    for index in range(i+1, length):\n",
    "        arr[index-1] = arr[index]\n",
    "\n",
    "\n",
    "removeMiddle(myArray, 1, 3)\n",
    "myArray"
   ]
  },
  {
   "cell_type": "code",
   "execution_count": 19,
   "metadata": {},
   "outputs": [
    {
     "data": {
      "text/plain": [
       "[1, 0, 0]"
      ]
     },
     "execution_count": 19,
     "metadata": {},
     "output_type": "execute_result"
    }
   ],
   "source": [
    "myArray"
   ]
  },
  {
   "cell_type": "code",
   "execution_count": 12,
   "metadata": {},
   "outputs": [],
   "source": [
    "## Insertion\n",
    "#, your code will not work as expected \n",
    "# because Python lists are dynamic, and you haven’t \n",
    "# preallocated enough space in myArray."
   ]
  },
  {
   "cell_type": "code",
   "execution_count": 23,
   "metadata": {},
   "outputs": [
    {
     "ename": "IndexError",
     "evalue": "list assignment index out of range",
     "output_type": "error",
     "traceback": [
      "\u001b[0;31m---------------------------------------------------------------------------\u001b[0m",
      "\u001b[0;31mIndexError\u001b[0m                                Traceback (most recent call last)",
      "\u001b[0;32m/var/folders/w9/p483ql1s05s1mct7rrr19dsw0000gn/T/ipykernel_2277/2465722234.py\u001b[0m in \u001b[0;36m<module>\u001b[0;34m\u001b[0m\n\u001b[1;32m      3\u001b[0m     \u001b[0;32mif\u001b[0m \u001b[0mlength\u001b[0m \u001b[0;34m<\u001b[0m \u001b[0mcapacity\u001b[0m\u001b[0;34m:\u001b[0m\u001b[0;34m\u001b[0m\u001b[0;34m\u001b[0m\u001b[0m\n\u001b[1;32m      4\u001b[0m         \u001b[0marr\u001b[0m\u001b[0;34m[\u001b[0m\u001b[0mlength\u001b[0m\u001b[0;34m+\u001b[0m\u001b[0;36m1\u001b[0m\u001b[0;34m]\u001b[0m \u001b[0;34m=\u001b[0m \u001b[0mn\u001b[0m\u001b[0;34m\u001b[0m\u001b[0;34m\u001b[0m\u001b[0m\n\u001b[0;32m----> 5\u001b[0;31m \u001b[0minsertEnd\u001b[0m\u001b[0;34m(\u001b[0m\u001b[0mmyArray\u001b[0m\u001b[0;34m,\u001b[0m \u001b[0;36m50\u001b[0m\u001b[0;34m,\u001b[0m \u001b[0;36m3\u001b[0m\u001b[0;34m,\u001b[0m \u001b[0;36m50\u001b[0m\u001b[0;34m)\u001b[0m\u001b[0;34m\u001b[0m\u001b[0;34m\u001b[0m\u001b[0m\n\u001b[0m\u001b[1;32m      6\u001b[0m \u001b[0mmyArray\u001b[0m\u001b[0;34m\u001b[0m\u001b[0;34m\u001b[0m\u001b[0m\n",
      "\u001b[0;32m/var/folders/w9/p483ql1s05s1mct7rrr19dsw0000gn/T/ipykernel_2277/2465722234.py\u001b[0m in \u001b[0;36minsertEnd\u001b[0;34m(arr, n, length, capacity)\u001b[0m\n\u001b[1;32m      2\u001b[0m \u001b[0;32mdef\u001b[0m \u001b[0minsertEnd\u001b[0m\u001b[0;34m(\u001b[0m\u001b[0marr\u001b[0m\u001b[0;34m,\u001b[0m \u001b[0mn\u001b[0m\u001b[0;34m,\u001b[0m \u001b[0mlength\u001b[0m\u001b[0;34m,\u001b[0m \u001b[0mcapacity\u001b[0m\u001b[0;34m)\u001b[0m\u001b[0;34m:\u001b[0m\u001b[0;34m\u001b[0m\u001b[0;34m\u001b[0m\u001b[0m\n\u001b[1;32m      3\u001b[0m     \u001b[0;32mif\u001b[0m \u001b[0mlength\u001b[0m \u001b[0;34m<\u001b[0m \u001b[0mcapacity\u001b[0m\u001b[0;34m:\u001b[0m\u001b[0;34m\u001b[0m\u001b[0;34m\u001b[0m\u001b[0m\n\u001b[0;32m----> 4\u001b[0;31m         \u001b[0marr\u001b[0m\u001b[0;34m[\u001b[0m\u001b[0mlength\u001b[0m\u001b[0;34m+\u001b[0m\u001b[0;36m1\u001b[0m\u001b[0;34m]\u001b[0m \u001b[0;34m=\u001b[0m \u001b[0mn\u001b[0m\u001b[0;34m\u001b[0m\u001b[0;34m\u001b[0m\u001b[0m\n\u001b[0m\u001b[1;32m      5\u001b[0m \u001b[0minsertEnd\u001b[0m\u001b[0;34m(\u001b[0m\u001b[0mmyArray\u001b[0m\u001b[0;34m,\u001b[0m \u001b[0;36m50\u001b[0m\u001b[0;34m,\u001b[0m \u001b[0;36m3\u001b[0m\u001b[0;34m,\u001b[0m \u001b[0;36m50\u001b[0m\u001b[0;34m)\u001b[0m\u001b[0;34m\u001b[0m\u001b[0;34m\u001b[0m\u001b[0m\n\u001b[1;32m      6\u001b[0m \u001b[0mmyArray\u001b[0m\u001b[0;34m\u001b[0m\u001b[0;34m\u001b[0m\u001b[0m\n",
      "\u001b[0;31mIndexError\u001b[0m: list assignment index out of range"
     ]
    }
   ],
   "source": [
    "## Insertion at the end\n",
    "myArray = [1, 3, 5]\n",
    "# myArray\n",
    "def insertEnd(arr, n, length, capacity):\n",
    "    if length < capacity:\n",
    "        arr[length] = n\n",
    "insertEnd(myArray, 50, 3, 50)\n",
    "myArray"
   ]
  },
  {
   "cell_type": "code",
   "execution_count": 28,
   "metadata": {},
   "outputs": [
    {
     "data": {
      "text/plain": [
       "[10, 20, 30, 50]"
      ]
     },
     "execution_count": 28,
     "metadata": {},
     "output_type": "execute_result"
    }
   ],
   "source": [
    "\n",
    "def insertEnd(arr, n, length, capacity):\n",
    "    if length < capacity:  # Check if there is room in the array\n",
    "        arr[length] = n  # Insert at the next available position\n",
    "        return length + 1  # Update length\n",
    "    else:\n",
    "        print(\"Array is full, cannot insert\")\n",
    "        return length  # Return the same length if insertion fails\n",
    "capacity = 50\n",
    "\n",
    "myArray = [None] * capacity  # Preallocate an array with \"empty\" slots\n",
    "myArray[0] = 10\n",
    "myArray[1] = 20\n",
    "myArray[2] = 30\n",
    "length = 3  # Number of elements currently in the array\n",
    "\n",
    "# Insert a new element at the end\n",
    "length = insertEnd(myArray, 50, length, capacity)\n",
    "myArray[:length]"
   ]
  },
  {
   "cell_type": "code",
   "execution_count": 32,
   "metadata": {},
   "outputs": [],
   "source": [
    "## Delete Middle \n",
    "# O(N) complexity"
   ]
  },
  {
   "cell_type": "code",
   "execution_count": 31,
   "metadata": {},
   "outputs": [
    {
     "data": {
      "text/plain": [
       "[10, 25, 20, 30]"
      ]
     },
     "execution_count": 31,
     "metadata": {},
     "output_type": "execute_result"
    }
   ],
   "source": [
    "def insertMiddle(arr, i, n, length, capacity):\n",
    "    if length>=capacity:\n",
    "        print(\"We are full\")\n",
    "        return length\n",
    "    \n",
    "    for index in range(length -1, i - 1, -1):\n",
    "        arr[index+1] = arr[index]\n",
    "    \n",
    "    arr[i] = n;\n",
    "    return length+1\n",
    "\n",
    "\n",
    "\n",
    "\n",
    "capacity = 50\n",
    "myArr = [None] * capacity\n",
    "myArray[0] = 10\n",
    "myArray[1] = 20\n",
    "myArray[2] = 30\n",
    "length = 3  # Current length of filled elements\n",
    "length = insertMiddle(myArray, 1, 25, length, capacity)\n",
    "myArray[:length]"
   ]
  },
  {
   "cell_type": "code",
   "execution_count": 33,
   "metadata": {},
   "outputs": [],
   "source": [
    "## Dynamic Arrays"
   ]
  },
  {
   "cell_type": "code",
   "execution_count": 34,
   "metadata": {},
   "outputs": [
    {
     "name": "stdout",
     "output_type": "stream",
     "text": [
      "[10, 20, 30, 50]\n"
     ]
    }
   ],
   "source": [
    "def insertEnd(arr, n):\n",
    "    arr.append(n)  # Appends element to the end (O(1))\n",
    "\n",
    "# Example usage\n",
    "myArray = [10, 20, 30]\n",
    "insertEnd(myArray, 50)\n",
    "print(myArray)  # Output: [10, 20, 30, 50]"
   ]
  },
  {
   "cell_type": "code",
   "execution_count": 35,
   "metadata": {},
   "outputs": [
    {
     "data": {
      "text/plain": [
       "[10, 20, 25, 30, 40]"
      ]
     },
     "execution_count": 35,
     "metadata": {},
     "output_type": "execute_result"
    }
   ],
   "source": [
    "# Insert in the middle\n",
    "def insertMiddle(arr, index, n):\n",
    "    arr.insert(index,n)\n",
    "\n",
    "myArray = [10, 20, 30, 40]\n",
    "insertMiddle(myArray, 2, 25)\n",
    "myArray  # Output: [10, 20, 25, 30, 40]"
   ]
  },
  {
   "cell_type": "code",
   "execution_count": 36,
   "metadata": {},
   "outputs": [
    {
     "data": {
      "text/plain": [
       "[10, 20, 30]"
      ]
     },
     "execution_count": 36,
     "metadata": {},
     "output_type": "execute_result"
    }
   ],
   "source": [
    "def deleteEnd(arr):\n",
    "    if arr:\n",
    "        arr.pop()\n",
    "\n",
    "myArray = [10,20,30, 40]\n",
    "deleteEnd(myArray)\n",
    "myArray"
   ]
  },
  {
   "cell_type": "code",
   "execution_count": 37,
   "metadata": {},
   "outputs": [
    {
     "data": {
      "text/plain": [
       "[10, 20, 40]"
      ]
     },
     "execution_count": 37,
     "metadata": {},
     "output_type": "execute_result"
    }
   ],
   "source": [
    "def deleteMiddle(arr, index):\n",
    "    if 0<= index < len(arr):\n",
    "        arr.pop(index)\n",
    "\n",
    "myArray = [10,20,30, 40]\n",
    "deleteMiddle(myArray, 2)\n",
    "myArray"
   ]
  },
  {
   "cell_type": "code",
   "execution_count": 38,
   "metadata": {},
   "outputs": [],
   "source": [
    "## Insertion manually\n",
    "def pushback(arr, n, length, capacity):\n",
    "    if self.length == self.capacity:\n",
    "        self.resize()\n",
    "\n",
    "    self.arr[self.length] = n\n",
    "    self.length += 1\n",
    "    \n"
   ]
  },
  {
   "cell_type": "code",
   "execution_count": 39,
   "metadata": {},
   "outputs": [],
   "source": [
    "def resize(self):\n",
    "    # Create new array of double capacity\n",
    "    self.capacity = 2 * self.capacity\n",
    "    newArr = [0] * self.capacity \n",
    "\n",
    "    # Copy elements to newArr\n",
    "    for i in range(self.length):\n",
    "        newArr[i] = self.arr[i]\n",
    "    self.arr = newArr"
   ]
  },
  {
   "cell_type": "code",
   "execution_count": 40,
   "metadata": {},
   "outputs": [],
   "source": [
    "## Stacks"
   ]
  },
  {
   "cell_type": "code",
   "execution_count": null,
   "metadata": {},
   "outputs": [],
   "source": []
  }
 ],
 "metadata": {
  "kernelspec": {
   "display_name": "opt",
   "language": "python",
   "name": "python3"
  },
  "language_info": {
   "codemirror_mode": {
    "name": "ipython",
    "version": 3
   },
   "file_extension": ".py",
   "mimetype": "text/x-python",
   "name": "python",
   "nbconvert_exporter": "python",
   "pygments_lexer": "ipython3",
   "version": "3.7.6"
  }
 },
 "nbformat": 4,
 "nbformat_minor": 2
}
