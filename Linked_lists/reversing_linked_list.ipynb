{
 "cells": [
  {
   "cell_type": "code",
   "execution_count": null,
   "metadata": {},
   "outputs": [],
   "source": [
    "class Solution:\n",
    "    def reverseList(self, head: Optional[ListNode]) -> Optional[ListNode]:\n",
    "        if not head or not head.next:\n",
    "            return head\n",
    "\n",
    "        prev = None\n",
    "        current  = head\n",
    "        while current:\n",
    "            next_temp  = current.next\n",
    "            current.next = prev\n",
    "            prev = current\n",
    "            current = next_temp\n",
    "\n",
    "        return prev\n"
   ]
  }
 ],
 "metadata": {
  "language_info": {
   "name": "python"
  }
 },
 "nbformat": 4,
 "nbformat_minor": 2
}
