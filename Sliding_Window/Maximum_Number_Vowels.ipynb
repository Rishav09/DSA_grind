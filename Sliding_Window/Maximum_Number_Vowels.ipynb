{
 "cells": [
  {
   "cell_type": "code",
   "execution_count": null,
   "metadata": {},
   "outputs": [],
   "source": [
    "vowels = {'a','e','i','o','u'}\n",
    "current_vowels = sum(1 for i in s[:k] if char in vowels)\n",
    "max_vowels = current_vowels\n",
    "for i in range(k, len(s)):\n",
    "    if s[i-k] in vowels:\n",
    "        \n"
   ]
  }
 ],
 "metadata": {
  "language_info": {
   "name": "python"
  }
 },
 "nbformat": 4,
 "nbformat_minor": 2
}
