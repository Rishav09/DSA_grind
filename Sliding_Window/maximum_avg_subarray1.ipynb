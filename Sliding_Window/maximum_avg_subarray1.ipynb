{
 "cells": [
  {
   "cell_type": "code",
   "execution_count": null,
   "metadata": {},
   "outputs": [],
   "source": [
    "def findMaxAverage(nums:List[int], k:int) -> float:\n",
    "    current_sum = sum(nums[:k])\n",
    "    for i in range(k, len(nums)):\n",
    "        current_sum+=nums[i]-nums[i-k]\n",
    "        max_sum = max(current_sum, max_sum)\n",
    "    return max_sum/k"
   ]
  }
 ],
 "metadata": {
  "language_info": {
   "name": "python"
  }
 },
 "nbformat": 4,
 "nbformat_minor": 2
}
