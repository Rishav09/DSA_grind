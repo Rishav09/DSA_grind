{
 "cells": [
  {
   "cell_type": "code",
   "execution_count": null,
   "metadata": {},
   "outputs": [],
   "source": [
    "def longestOnes(nums, k):    \n",
    "    left = 0\n",
    "    max_len = 0\n",
    "    zero_count = 0\n",
    "\n",
    "    for right in range(len(nums)):\n",
    "        # If the current number is zero, increment zero count\n",
    "        if nums[right] == 0:\n",
    "            zero_count += 1\n",
    "        \n",
    "        # If more than k zeros, move left pointer forward\n",
    "        while zero_count > k:\n",
    "            if nums[left] == 0:\n",
    "                zero_count -= 1\n",
    "            left += 1\n",
    "        \n",
    "        # Update the maximum length of window\n",
    "        max_len = max(max_len, right - left + 1)\n",
    "    \n",
    "    return max_len"
   ]
  }
 ],
 "metadata": {
  "language_info": {
   "name": "python"
  }
 },
 "nbformat": 4,
 "nbformat_minor": 2
}
