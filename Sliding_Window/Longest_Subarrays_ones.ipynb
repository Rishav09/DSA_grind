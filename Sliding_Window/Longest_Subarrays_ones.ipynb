{
 "cells": [
  {
   "cell_type": "code",
   "execution_count": null,
   "metadata": {},
   "outputs": [],
   "source": [
    "# https://chatgpt.com/share/67d4ffaf-e244-800f-bedc-3a9751e69c42\n",
    "def longestSubarray(nums, List[int]) -> int:\n",
    "    left = 0\n",
    "    zero_count = 0\n",
    "    max_len = 0\n",
    "    for right in range(len(nums)):\n",
    "        if nums[right] == 0:\n",
    "            zero_count+=1\n",
    "        while zero_count > 1:\n",
    "            if nums[left] == 0:\n",
    "                zero_count-=1\n",
    "            left+=1\n",
    "        max_len = max(max_len, right-left)\n",
    "    return max_len"
   ]
  }
 ],
 "metadata": {
  "language_info": {
   "name": "python"
  }
 },
 "nbformat": 4,
 "nbformat_minor": 2
}
